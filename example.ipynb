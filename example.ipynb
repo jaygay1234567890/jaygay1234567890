{
 "cells": [
  {
   "cell_type": "code",
   "execution_count": 1,
   "id": "f3c2efd2-4f00-47aa-927d-57f003188a9c",
   "metadata": {},
   "outputs": [
    {
     "name": "stdout",
     "output_type": "stream",
     "text": [
      "my\n",
      "name\n",
      "is\n",
      "not\n",
      "123\n"
     ]
    }
   ],
   "source": [
    "for i in ['my','name','is','not',123]:\n",
    "    print(i)"
   ]
  },
  {
   "cell_type": "code",
   "execution_count": 2,
   "id": "a858225a-ff42-4295-8dca-8e71cbfdb95a",
   "metadata": {},
   "outputs": [
    {
     "name": "stdout",
     "output_type": "stream",
     "text": [
      "m\n",
      "y\n",
      "n\n",
      "a\n",
      "m\n",
      "e\n",
      "i\n",
      "s\n",
      "n\n",
      "o\n",
      "t\n",
      "1\n",
      "2\n",
      "3\n"
     ]
    }
   ],
   "source": [
    "for i in 'mynameisnot123':\n",
    "    print(i)"
   ]
  },
  {
   "cell_type": "code",
   "execution_count": null,
   "id": "5f04d752-a5db-4bf2-b41d-4bb7b3276f78",
   "metadata": {},
   "outputs": [],
   "source": []
  }
 ],
 "metadata": {
  "kernelspec": {
   "display_name": "Python 3 (ipykernel)",
   "language": "python",
   "name": "python3"
  },
  "language_info": {
   "codemirror_mode": {
    "name": "ipython",
    "version": 3
   },
   "file_extension": ".py",
   "mimetype": "text/x-python",
   "name": "python",
   "nbconvert_exporter": "python",
   "pygments_lexer": "ipython3",
   "version": "3.11.5"
  }
 },
 "nbformat": 4,
 "nbformat_minor": 5
}
